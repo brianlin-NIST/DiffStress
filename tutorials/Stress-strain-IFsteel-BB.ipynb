{
 "cells": [
  {
   "cell_type": "markdown",
   "metadata": {},
   "source": [
    "# Compare three tests results for balanced-biaxial straining of the IF steel"
   ]
  },
  {
   "cell_type": "markdown",
   "metadata": {},
   "source": [
    "- In the following, an experimental analysis is carried out using the 'rs.StressAnalysis'"
   ]
  },
  {
   "cell_type": "code",
   "execution_count": null,
   "metadata": {
    "collapsed": false
   },
   "outputs": [],
   "source": [
    "%pylab inline\n",
    "\n",
    "import RS\n",
    "reload(RS)\n",
    "from RS import analyze_proto\n",
    "reload(analyze_proto)"
   ]
  },
  {
   "cell_type": "markdown",
   "metadata": {},
   "source": [
    "Below two blocks in what follows are not concern the stress analysis.\n",
    "However, it may be useful for those who want to use their own data\n",
    "with the current example.\n"
   ]
  },
  {
   "cell_type": "code",
   "execution_count": null,
   "metadata": {
    "collapsed": false
   },
   "outputs": [],
   "source": [
    "## format of the *.sff file - Following the convention of Thomas' PF program sff file\n",
    "import os;\n",
    "f=os.popen('head ../dat/BB/YJ_BB_10times.sff');\n",
    "d=f.read()\n",
    "print d"
   ]
  },
  {
   "cell_type": "code",
   "execution_count": null,
   "metadata": {
    "collapsed": false
   },
   "outputs": [],
   "source": [
    "## format of the fref file - as of now, fref is following the convention used in Thomas' PF program\n",
    "f=os.popen('head -n 5 ../dat/BB/Bsteel_fref_DIC.txt')\n",
    "d=f.read()\n",
    "print d\n",
    "\n",
    "# note that the first line is discarded in the current application.\n",
    "# Depending on your data, you may need to write the information on the Bsteel_fref_DIC.txt file."
   ]
  },
  {
   "cell_type": "code",
   "execution_count": null,
   "metadata": {
    "collapsed": false,
    "scrolled": false
   },
   "outputs": [],
   "source": [
    "## plastic strain of the points where the X-ray d-spacing\n",
    "## were meausured at important information.\n",
    "## If, fc or fn_str are not given, the below application\n",
    "## bases on the strain given in the fref file -\n",
    "## the two major strain components are used with assumption\n",
    "## that the sample was in 'equi-biaxial' strain.\n",
    "\n",
    "RS_2012=analyze_proto.main(path='../dat/BB',\n",
    "                           fn_sf='../dat/BB/YJ_BB_10times.sff',\n",
    "                           fref='../dat/BB/Bsteel_fref_DIC.txt',iwgt=True,\n",
    "                           ind_plot=False)\n",
    "RS_2014OCT28=analyze_proto.main(path='../dat/2014OCT28-29/2014OCT28',iwgt=True,\n",
    "                                fn_sf='../dat/BB/YJ_BB_10times.sff',\n",
    "                                fref='../dat/2014OCT28-29/2014OCT28/ref.txt',\n",
    "                                ind_plot=False)\n",
    "RS_2014OCT29=analyze_proto.main(path='../dat/2014OCT28-29/2014OCT29',iwgt=True,\n",
    "                                fn_sf='../dat/BB/YJ_BB_10times.sff',\n",
    "                                fref='../dat/2014OCT28-29/2014OCT29/ref.txt',\n",
    "                                ind_plot=False)\n",
    "\n",
    "plot(RS_2012.EXP.flow.epsilon_vm, RS_2012.flow.sigma_vm,'o',mfc='None',mec='b',label='2012')\n",
    "plot(RS_2014OCT28.EXP.flow.epsilon_vm, RS_2014OCT28.flow.sigma_vm,'s',mfc='None',mec='g',label='2014OCT28')\n",
    "plot(RS_2014OCT29.EXP.flow.epsilon_vm, RS_2014OCT29.flow.sigma_vm,'+',label='2014OCT29')\n",
    "annotate('Unloaded',xy=(0.84,80),xycoords='data',xytext=(0.72,140),arrowprops=dict(arrowstyle='->'))\n",
    "legend(loc='best',fontsize=15, fancybox=True).get_frame().set_alpha(0.5)\n",
    "\n",
    "gca().set_xlabel('Equivalent strain')\n",
    "gca().set_ylabel('Equivalent stress')\n",
    "grid('on')\n",
    "gca().set_xlim(0.,1.0)\n",
    "gcf().savefig('/Users/yj/Downloads/compr_wgt.pdf')"
   ]
  }
 ],
 "metadata": {
  "kernelspec": {
   "display_name": "Python 2",
   "language": "python",
   "name": "python2"
  },
  "language_info": {
   "codemirror_mode": {
    "name": "ipython",
    "version": 2
   },
   "file_extension": ".py",
   "mimetype": "text/x-python",
   "name": "python",
   "nbconvert_exporter": "python",
   "pygments_lexer": "ipython2",
   "version": "2.7.11"
  }
 },
 "nbformat": 4,
 "nbformat_minor": 0
}
